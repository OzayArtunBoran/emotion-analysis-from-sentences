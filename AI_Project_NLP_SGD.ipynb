{
  "nbformat": 4,
  "nbformat_minor": 0,
  "metadata": {
    "colab": {
      "name": "AI-Project-NLP-SGD",
      "provenance": [],
      "collapsed_sections": [],
      "authorship_tag": "ABX9TyOqc7N7mAitynmuchGI8qNb",
      "include_colab_link": true
    },
    "kernelspec": {
      "name": "python3",
      "display_name": "Python 3"
    },
    "language_info": {
      "name": "python"
    }
  },
  "cells": [
    {
      "cell_type": "markdown",
      "metadata": {
        "id": "view-in-github",
        "colab_type": "text"
      },
      "source": [
        "<a href=\"https://colab.research.google.com/github/oziboran123/emotion-analysis-from-sentences/blob/main/AI_Project_NLP_SGD.ipynb\" target=\"_parent\"><img src=\"https://colab.research.google.com/assets/colab-badge.svg\" alt=\"Open In Colab\"/></a>"
      ]
    },
    {
      "cell_type": "code",
      "execution_count": 24,
      "metadata": {
        "id": "gFbrXfLfWYa0"
      },
      "outputs": [],
      "source": [
        "#GEREKLİ KÜTÜPHANELERİN İMPORT EDİLMESİ\n",
        "import pandas as pd\n",
        "import numpy as np\n",
        "import matplotlib.pyplot as plt\n",
        "import nltk\n",
        "import re\n",
        "import warnings\n",
        "from collections import Counter\n",
        "from sklearn.feature_extraction.text import TfidfVectorizer\n",
        "from sklearn.model_selection import train_test_split\n",
        "from sklearn.decomposition import LatentDirichletAllocation as LDA\n",
        "from sklearn.feature_extraction.text import CountVectorizer\n",
        "from sklearn.linear_model import LogisticRegression, SGDClassifier\n",
        "from sklearn.multiclass import  OneVsRestClassifier\n",
        "from sklearn.svm import LinearSVC\n",
        "from sklearn.pipeline import Pipeline\n",
        "from sklearn.metrics import accuracy_score\n",
        "from tensorflow import keras\n",
        "import tensorflow as tf\n",
        "import os.path\n",
        "from keras.models import load_model\n",
        "import pickle\n",
        "import neattext.functions as nfx"
      ]
    },
    {
      "cell_type": "code",
      "source": [
        "pip install neattext"
      ],
      "metadata": {
        "colab": {
          "base_uri": "https://localhost:8080/"
        },
        "id": "u38Ohvybf8GU",
        "outputId": "58fc069b-a82e-4913-e719-4dea473805fa"
      },
      "execution_count": 11,
      "outputs": [
        {
          "output_type": "stream",
          "name": "stdout",
          "text": [
            "Collecting neattext\n",
            "  Downloading neattext-0.1.2-py3-none-any.whl (114 kB)\n",
            "\u001b[K     |████████████████████████████████| 114 kB 3.1 MB/s \n",
            "\u001b[?25hInstalling collected packages: neattext\n",
            "Successfully installed neattext-0.1.2\n"
          ]
        }
      ]
    },
    {
      "cell_type": "code",
      "source": [
        "#VERİ SETİNİN DOSYAYA DAHİL EDİLMESİ\n",
        "veri = pd.read_csv('emotion_dataset.csv')\n",
        "print(veri.head())"
      ],
      "metadata": {
        "colab": {
          "base_uri": "https://localhost:8080/"
        },
        "id": "--CF_qBlZa4R",
        "outputId": "de228829-d28e-48c9-a482-040102c21599"
      },
      "execution_count": 2,
      "outputs": [
        {
          "output_type": "stream",
          "name": "stdout",
          "text": [
            "   Emotion                                               Text\n",
            "0  neutral                                             Why ? \n",
            "1      joy    Sage Act upgrade on my to do list for tommorow.\n",
            "2  sadness  ON THE WAY TO MY HOMEGIRL BABY FUNERAL!!! MAN ...\n",
            "3      joy   Such an eye ! The true hazel eye-and so brill...\n",
            "4      joy  @Iluvmiasantos ugh babe.. hugggzzz for u .!  b...\n"
          ]
        }
      ]
    },
    {
      "cell_type": "code",
      "source": [
        "#ETİKETLERİN İNCELENMESİ VE DEĞİŞKENLERE ATANMASI\n",
        "etiketler = Counter(veri['Emotion']).keys()\n",
        "etiket_sayilari = Counter(veri['Emotion']).values()"
      ],
      "metadata": {
        "colab": {
          "base_uri": "https://localhost:8080/"
        },
        "id": "03BJlttIaUCC",
        "outputId": "a9e49cc4-080e-40e0-acf0-a58ad64537e3"
      },
      "execution_count": 6,
      "outputs": [
        {
          "output_type": "stream",
          "name": "stdout",
          "text": [
            "dict_keys(['neutral', 'joy', 'sadness', 'fear', 'surprise', 'anger', 'shame', 'disgust'])\n",
            "dict_values([2254, 11045, 6722, 5410, 4062, 4297, 146, 856])\n"
          ]
        }
      ]
    },
    {
      "cell_type": "code",
      "source": [
        "#ETİKETLERİN GÖRSELLEŞTİRİLMESİ\n",
        "etiket_df = pd.DataFrame(zip(etiketler,etiket_sayilari),columns = ['Sınıf','Toplam'])\n",
        "etiket_df.plot(x = \"Sınıf\", y= \"Toplam\", kind = \"bar\", legend = False, grid = True, figsize = (20,10))\n",
        "plt.title(\"Etiket Sayılarının Grafiği\",fontsize = 20)\n",
        "plt.xlabel(\"Etiketler\",fontsize = 15)\n",
        "plt.ylabel(\"Toplam\",fontsize = 15)\n",
        "plt.show()"
      ],
      "metadata": {
        "colab": {
          "base_uri": "https://localhost:8080/",
          "height": 663
        },
        "id": "VuLSyR8KcmWs",
        "outputId": "17087253-68bd-4681-b6b9-79f38d803330"
      },
      "execution_count": 7,
      "outputs": [
        {
          "output_type": "display_data",
          "data": {
            "text/plain": [
              "<Figure size 1440x720 with 1 Axes>"
            ],
            "image/png": "[encoded data removed]"
          },
          "metadata": {
            "needs_background": "light"
          }
        }
      ]
    },
    {
      "cell_type": "code",
      "source": [
        "#VERİNİN ÇÖP KELİMELERDEN AYRILMASI\n",
        "veri['Text'] = veri['Text'].apply(nfx.remove_userhandles)\n",
        "veri['Text'] = veri['Text'].apply(nfx.remove_stopwords)\n",
        "print(veri.head())"
      ],
      "metadata": {
        "colab": {
          "base_uri": "https://localhost:8080/"
        },
        "id": "A4RexitAd5Qy",
        "outputId": "1fe03180-1f74-440f-c20b-5c7e2b01ef84"
      },
      "execution_count": 17,
      "outputs": [
        {
          "output_type": "stream",
          "name": "stdout",
          "text": [
            "   Emotion                                               Text  \\\n",
            "0  neutral                                                  ?   \n",
            "1      joy                    Sage Act upgrade list tommorow.   \n",
            "2  sadness  WAY HOMEGIRL BABY FUNERAL!!! MAN HATE FUNERALS...   \n",
            "3      joy  eye ! true hazel eye-and brilliant ! Regular f...   \n",
            "4      joy  ugh babe.. hugggzzz u .! babe naamazed nga ako...   \n",
            "\n",
            "                                          Clean_Text  \n",
            "0                                                  ?  \n",
            "1                    Sage Act upgrade list tommorow.  \n",
            "2  WAY HOMEGIRL BABY FUNERAL!!! MAN HATE FUNERALS...  \n",
            "3  eye ! true hazel eye-and brilliant ! Regular f...  \n",
            "4  ugh babe.. hugggzzz u .! babe naamazed nga ako...  \n"
          ]
        }
      ]
    },
    {
      "cell_type": "code",
      "source": [
        "#VERİNİN AYIRLIMASI İŞLEMİ\n",
        "veritext = veri['Text']\n",
        "veritag = veri['Emotion']\n"
      ],
      "metadata": {
        "id": "DRp2TzbJg2yc"
      },
      "execution_count": 19,
      "outputs": []
    },
    {
      "cell_type": "code",
      "source": [
        "#X LER EĞİTİM VE TESTTE KULLANILACAK CÜMLELER Y LER İSE ETİKETLER\n",
        "#EĞİTİM VE TEST OLARAK AYIRLIMASI\n",
        "x_egitim,x_test,y_egitim,y_test = train_test_split(veritext, veritag, test_size = 0.25, random_state = 42)"
      ],
      "metadata": {
        "id": "ETQqG1Y6gb2j"
      },
      "execution_count": 30,
      "outputs": []
    },
    {
      "cell_type": "code",
      "source": [
        "#SKORLAMA İŞLEMİ\n",
        "tfidf_vektor = TfidfVectorizer(ngram_range= (1,2) ,max_df=0.9, min_df = 5)\n",
        "x_egitim_tfidf = tfidf_vektor.fit_transform(x_egitim)\n",
        "x_test_tfidf = tfidf_vektor.transform(x_test)\n",
        "print(x_egitim_tfidf)"
      ],
      "metadata": {
        "colab": {
          "base_uri": "https://localhost:8080/"
        },
        "id": "rwKzyF9nhknu",
        "outputId": "9adda58a-3a3b-4c24-e5cb-d3e502436c3f"
      },
      "execution_count": 31,
      "outputs": [
        {
          "output_type": "stream",
          "name": "stdout",
          "text": [
            "  (0, 2142)\t0.5803781862777663\n",
            "  (0, 4522)\t0.4555405475025381\n",
            "  (0, 6146)\t0.34998847090365104\n",
            "  (0, 2062)\t0.38953780268615823\n",
            "  (0, 2141)\t0.4259252762950119\n",
            "  (1, 5004)\t1.0\n",
            "  (2, 1872)\t1.0\n",
            "  (3, 3049)\t0.41475898039402015\n",
            "  (3, 2663)\t0.40027580676083396\n",
            "  (3, 5574)\t0.29279537274955386\n",
            "  (3, 3044)\t0.28618313531745326\n",
            "  (3, 3532)\t0.41688853532867565\n",
            "  (3, 89)\t0.4414071449588251\n",
            "  (3, 4081)\t0.27198031336034567\n",
            "  (3, 2652)\t0.23982230942098967\n",
            "  (4, 4527)\t0.5727658907353876\n",
            "  (4, 5138)\t0.44706815971066993\n",
            "  (4, 1138)\t0.3650987542867388\n",
            "  (4, 2068)\t0.42871620252725456\n",
            "  (4, 4523)\t0.39366814995868576\n",
            "  (5, 2348)\t0.4969112909586468\n",
            "  (5, 4584)\t0.47474639363625176\n",
            "  (5, 4037)\t0.48471306772283973\n",
            "  (5, 2347)\t0.4590201487143669\n",
            "  (5, 6618)\t0.2864415746712379\n",
            "  :\t:\n",
            "  (26088, 6911)\t0.2288221514100699\n",
            "  (26088, 6430)\t0.28281286109877796\n",
            "  (26088, 6127)\t0.20856854716484755\n",
            "  (26089, 5850)\t0.5173034147904951\n",
            "  (26089, 284)\t0.5638950996526333\n",
            "  (26089, 1469)\t0.46635441756694923\n",
            "  (26089, 2627)\t0.33310184357548184\n",
            "  (26089, 6187)\t0.29321700608294593\n",
            "  (26090, 4716)\t0.4525621867486884\n",
            "  (26090, 6178)\t0.5430361257299143\n",
            "  (26090, 2796)\t0.4206209330505297\n",
            "  (26090, 3114)\t0.41045883836238306\n",
            "  (26090, 2800)\t0.3935743969917188\n",
            "  (26091, 3346)\t0.42863994122201093\n",
            "  (26091, 6832)\t0.3698162125409381\n",
            "  (26091, 249)\t0.4307649202320964\n",
            "  (26091, 961)\t0.40530011435495894\n",
            "  (26091, 1674)\t0.33899593739896766\n",
            "  (26091, 6184)\t0.33899593739896766\n",
            "  (26091, 3653)\t0.3159757575928096\n",
            "  (26092, 4661)\t1.0\n",
            "  (26093, 3079)\t0.5807837484580017\n",
            "  (26093, 6358)\t0.5462463195771383\n",
            "  (26093, 2465)\t0.44832771771281876\n",
            "  (26093, 3916)\t0.40411316905777606\n"
          ]
        }
      ]
    },
    {
      "cell_type": "code",
      "source": [
        "#MODELİN EĞİTİLMESİ\n",
        "sgd_model = OneVsRestClassifier(SGDClassifier(loss=\"hinge\", penalty=\"elasticnet\", max_iter = 50))\n",
        "sgd_model.fit(x_egitim_tfidf,y_egitim)\n",
        "print(sgd_model)"
      ],
      "metadata": {
        "colab": {
          "base_uri": "https://localhost:8080/"
        },
        "id": "RJuqW_owjAlF",
        "outputId": "f7e9b6a5-47d3-4b86-d1d1-65d8aaae1702"
      },
      "execution_count": 32,
      "outputs": [
        {
          "output_type": "stream",
          "name": "stdout",
          "text": [
            "OneVsRestClassifier(estimator=SGDClassifier(max_iter=50, penalty='elasticnet'))\n"
          ]
        }
      ]
    },
    {
      "cell_type": "code",
      "source": [
        "#BAŞARI ORANI GÖZLENMESİ\n",
        "print(sgd_model.predict(x_test_tfidf))\n",
        "print(accuracy_score(y_test,sgd_model.predict(x_test_tfidf)))"
      ],
      "metadata": {
        "colab": {
          "base_uri": "https://localhost:8080/"
        },
        "id": "eqYa28k1jySO",
        "outputId": "eca8c853-af09-4475-9a73-fd1e63256659"
      },
      "execution_count": 33,
      "outputs": [
        {
          "output_type": "stream",
          "name": "stdout",
          "text": [
            "['fear' 'anger' 'sadness' ... 'sadness' 'joy' 'sadness']\n",
            "0.6111749827546562\n"
          ]
        }
      ]
    },
    {
      "cell_type": "code",
      "source": [
        "#MODELİN KAYDEDİLMESİ\n",
        "with open(\"sgd_model.pkl\",\"wb\") as i:\n",
        "  pickle.dump(sgd_model,i)"
      ],
      "metadata": {
        "id": "eL9rupmCk6V-"
      },
      "execution_count": 34,
      "outputs": []
    },
    {
      "cell_type": "code",
      "source": [
        "#MODELİN BAŞKA DOSYADA KULLANILMASI\n",
        "import pickle\n",
        "with open(\"sgd_model.pkl\",\"rb\") as j:\n",
        "  model = pickle.load(j)\n",
        "print(model)"
      ],
      "metadata": {
        "colab": {
          "base_uri": "https://localhost:8080/"
        },
        "id": "6jcWX3aGlLgL",
        "outputId": "3666e20f-5dee-410a-d389-fb7614193d5e"
      },
      "execution_count": 29,
      "outputs": [
        {
          "output_type": "stream",
          "name": "stdout",
          "text": [
            "OneVsRestClassifier(estimator=SGDClassifier(max_iter=50, penalty='elasticnet'))\n"
          ]
        }
      ]
    }
  ]
}
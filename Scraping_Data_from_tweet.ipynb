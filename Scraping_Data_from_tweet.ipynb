{
  "nbformat": 4,
  "nbformat_minor": 0,
  "metadata": {
    "colab": {
      "name": "Scraping-Data-from-tweet.ipynb",
      "provenance": [],
      "authorship_tag": "ABX9TyPhgbKbxnaBL6CxCa0Gedgu"
    },
    "kernelspec": {
      "name": "python3",
      "display_name": "Python 3"
    },
    "language_info": {
      "name": "python"
    }
  },
  "cells": [
    {
      "cell_type": "code",
      "source": [
        "#Kütüphaneleri Dahil Etme\n",
        "import tweepy\n",
        "import pandas as pd\n",
        "import re\n",
        "import numpy as np\n",
        "from textblob import TextBlob\n",
        "import matplotlib.pyplot as plt"
      ],
      "metadata": {
        "id": "JbzzfA6SMyVz"
      },
      "execution_count": null,
      "outputs": []
    },
    {
      "cell_type": "code",
      "source": [
        "#YETKİLENDİRME İÇİN GEREKLİ KEYLER\n",
        "api_key=\"HERE\"\n",
        "api_key_secret=\"HERE\"\n",
        "access_token=\"HERE\"\n",
        "access_token_secret=\"HERE\""
      ],
      "metadata": {
        "id": "BWFlxye9MzBz"
      },
      "execution_count": null,
      "outputs": []
    },
    {
      "cell_type": "code",
      "source": [
        "#Twitter için yetkilendirme\n",
        "auth = tweepy.OAuthHandler(api_key, api_key_secret)\n",
        "auth.set_access_token(access_token, access_token_secret)\n",
        "\n",
        "api = tweepy.API(auth, wait_on_rate_limit=True)"
      ],
      "metadata": {
        "id": "AxP8Ny2tMzEb"
      },
      "execution_count": null,
      "outputs": []
    },
    {
      "cell_type": "code",
      "source": [
        "#Filtre kriterlerinin belirlenmesi\n",
        "keywords = '#pet'\n",
        "limit = 300"
      ],
      "metadata": {
        "id": "MnjALPELMzHT"
      },
      "execution_count": null,
      "outputs": []
    },
    {
      "cell_type": "code",
      "source": [
        "#Tweetlerin çekilme işlemi\n",
        "tweets = tweepy.Cursor(api.search, q=keywords, tweet_mode='extended').items(limit)"
      ],
      "metadata": {
        "id": "RAvGeWRwMzJc"
      },
      "execution_count": null,
      "outputs": []
    },
    {
      "cell_type": "code",
      "source": [
        "#cümlelerin çöplerden ayıklanması \n",
        "columns = ['Tweets']\n",
        "data = []\n",
        "for tweet in tweets:\n",
        "    veri = ' '.join(re.sub(\"((@[A-Za-z0-9]+)|(#[0-9A-Za-z\\t]))\", \" \", tweet.full_text).split())\n",
        "    data.append(veri)"
      ],
      "metadata": {
        "id": "e46qCy4EMzMA"
      },
      "execution_count": null,
      "outputs": []
    },
    {
      "cell_type": "code",
      "source": [
        "#Excele kaydetme\n",
        "df = pd.DataFrame(data, columns = columns)\n",
        "df.to_excel('tweets.xlsx')"
      ],
      "metadata": {
        "id": "WWjcG_fmOddC"
      },
      "execution_count": null,
      "outputs": []
    }
  ]
}